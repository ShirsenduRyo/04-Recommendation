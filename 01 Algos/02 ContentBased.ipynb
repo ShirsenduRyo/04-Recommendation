{
 "cells": [
  {
   "cell_type": "markdown",
   "metadata": {},
   "source": [
    "# Description"
   ]
  },
  {
   "cell_type": "markdown",
   "metadata": {},
   "source": [
    "* Simulates movie descriptions as features\n",
    "* Uses TF-IDF to convert descriptions into vectors\n",
    "* Computes cosine similarity between item features\n",
    "* Recommends movies similar to Movie1 based on textual features"
   ]
  },
  {
   "cell_type": "markdown",
   "metadata": {},
   "source": [
    "# 0. Setting Up the Env"
   ]
  },
  {
   "cell_type": "markdown",
   "metadata": {},
   "source": [
    "## 0.1 Import Packages"
   ]
  },
  {
   "cell_type": "code",
   "execution_count": 10,
   "metadata": {},
   "outputs": [],
   "source": [
    "import numpy as np\n",
    "import pandas as pd\n",
    "\n",
    "\n",
    "from sklearn.feature_extraction.text import TfidfVectorizer\n",
    "from sklearn.metrics.pairwise import cosine_similarity"
   ]
  },
  {
   "cell_type": "markdown",
   "metadata": {},
   "source": [
    "## 0.2 Constants"
   ]
  },
  {
   "cell_type": "markdown",
   "metadata": {},
   "source": [
    "# 1. Data"
   ]
  },
  {
   "cell_type": "code",
   "execution_count": 11,
   "metadata": {},
   "outputs": [
    {
     "data": {
      "text/html": [
       "<div>\n",
       "<style scoped>\n",
       "    .dataframe tbody tr th:only-of-type {\n",
       "        vertical-align: middle;\n",
       "    }\n",
       "\n",
       "    .dataframe tbody tr th {\n",
       "        vertical-align: top;\n",
       "    }\n",
       "\n",
       "    .dataframe thead th {\n",
       "        text-align: right;\n",
       "    }\n",
       "</style>\n",
       "<table border=\"1\" class=\"dataframe\">\n",
       "  <thead>\n",
       "    <tr style=\"text-align: right;\">\n",
       "      <th></th>\n",
       "      <th>Item</th>\n",
       "      <th>Description</th>\n",
       "    </tr>\n",
       "  </thead>\n",
       "  <tbody>\n",
       "    <tr>\n",
       "      <th>0</th>\n",
       "      <td>Final Destination: Bloodlines</td>\n",
       "      <td>Plagued by a recurring violent nightmare, a co...</td>\n",
       "    </tr>\n",
       "    <tr>\n",
       "      <th>1</th>\n",
       "      <td>Materialists</td>\n",
       "      <td>A young, ambitious New York City matchmaker fi...</td>\n",
       "    </tr>\n",
       "    <tr>\n",
       "      <th>2</th>\n",
       "      <td>Mission: Impossible - The Final Reckoning</td>\n",
       "      <td>Hunt and the IMF pursue a dangerous AI called ...</td>\n",
       "    </tr>\n",
       "    <tr>\n",
       "      <th>3</th>\n",
       "      <td>Sinners</td>\n",
       "      <td>Trying to leave their troubled lives behind, t...</td>\n",
       "    </tr>\n",
       "    <tr>\n",
       "      <th>4</th>\n",
       "      <td>Superman</td>\n",
       "      <td>Superman must reconcile his alien Kryptonian h...</td>\n",
       "    </tr>\n",
       "  </tbody>\n",
       "</table>\n",
       "</div>"
      ],
      "text/plain": [
       "                                        Item  \\\n",
       "0              Final Destination: Bloodlines   \n",
       "1                               Materialists   \n",
       "2  Mission: Impossible - The Final Reckoning   \n",
       "3                                    Sinners   \n",
       "4                                   Superman   \n",
       "\n",
       "                                         Description  \n",
       "0  Plagued by a recurring violent nightmare, a co...  \n",
       "1  A young, ambitious New York City matchmaker fi...  \n",
       "2  Hunt and the IMF pursue a dangerous AI called ...  \n",
       "3  Trying to leave their troubled lives behind, t...  \n",
       "4  Superman must reconcile his alien Kryptonian h...  "
      ]
     },
     "execution_count": 11,
     "metadata": {},
     "output_type": "execute_result"
    }
   ],
   "source": [
    "items = ['Final Destination: Bloodlines',\n",
    " 'Materialists', \n",
    " 'Mission: Impossible - The Final Reckoning', \n",
    " 'Sinners', \n",
    " 'Superman']\n",
    "\n",
    "\n",
    "\n",
    "descriptions = [\n",
    "    \"Plagued by a recurring violent nightmare, a college student returns home to find the one person who can break the cycle and save her family from the horrific fate that inevitably awaits them.\",\n",
    "    \"A young, ambitious New York City matchmaker finds herself torn between the perfect match and her imperfect ex.\",\n",
    "    \"Hunt and the IMF pursue a dangerous AI called the Entity that's infiltrated global intelligence. With governments and a figure from his past in pursuit, Hunt races to stop it from forever changing the world.\",\n",
    "    \"Trying to leave their troubled lives behind, twin brothers return to their hometown to start again, only to discover that an even greater evil is waiting to welcome them back.\",\n",
    "    \"Superman must reconcile his alien Kryptonian heritage with his human upbringing as reporter Clark Kent. As the embodiment of truth, justice and the human way he soon finds himself in a world that views these as old-fashioned.\"\n",
    "]\n",
    "df = pd.DataFrame({'Item': items, 'Description': descriptions})\n",
    "df.head()"
   ]
  },
  {
   "cell_type": "markdown",
   "metadata": {},
   "source": [
    "# 2. Similarity Calculation"
   ]
  },
  {
   "cell_type": "code",
   "execution_count": 12,
   "metadata": {},
   "outputs": [
    {
     "name": "stdout",
     "output_type": "stream",
     "text": [
      "<class 'scipy.sparse._csr.csr_matrix'>\n"
     ]
    }
   ],
   "source": [
    "#TF-IDF vectorization of item descriptions\n",
    "vectorizer = TfidfVectorizer(stop_words='english')\n",
    "tfidf_matrix = vectorizer.fit_transform(df['Description'])\n",
    "\n",
    "print(type(tfidf_matrix))"
   ]
  },
  {
   "cell_type": "code",
   "execution_count": 13,
   "metadata": {},
   "outputs": [
    {
     "data": {
      "text/plain": [
       "array([[1.        , 0.        , 0.        , 0.        , 0.        ],\n",
       "       [0.        , 1.        , 0.        , 0.        , 0.04038078],\n",
       "       [0.        , 0.        , 1.        , 0.        , 0.02962215],\n",
       "       [0.        , 0.        , 0.        , 1.        , 0.        ],\n",
       "       [0.        , 0.04038078, 0.02962215, 0.        , 1.        ]])"
      ]
     },
     "execution_count": 13,
     "metadata": {},
     "output_type": "execute_result"
    }
   ],
   "source": [
    "cosine_sim = cosine_similarity(tfidf_matrix, tfidf_matrix)\n",
    "cosine_sim"
   ]
  },
  {
   "cell_type": "code",
   "execution_count": 16,
   "metadata": {},
   "outputs": [
    {
     "data": {
      "text/plain": [
       "[(0, np.float64(0.0)),\n",
       " (1, np.float64(0.040380778899837134)),\n",
       " (2, np.float64(0.029622150932809763)),\n",
       " (3, np.float64(0.0)),\n",
       " (4, np.float64(0.9999999999999992))]"
      ]
     },
     "execution_count": 16,
     "metadata": {},
     "output_type": "execute_result"
    }
   ],
   "source": [
    "# Recommend Movies for Movie1 \n",
    "item_idx = 4  # Movie1\n",
    "similarities = cosine_sim[item_idx]\n",
    "recommendations = list(enumerate(similarities))\n",
    "recommendations\n"
   ]
  },
  {
   "cell_type": "code",
   "execution_count": 17,
   "metadata": {},
   "outputs": [
    {
     "name": "stdout",
     "output_type": "stream",
     "text": [
      "Recommendations for Superman:\n",
      "Materialists: 0.04\n",
      "Mission: Impossible - The Final Reckoning: 0.03\n",
      "Final Destination: Bloodlines: 0.00\n",
      "Sinners: 0.00\n"
     ]
    }
   ],
   "source": [
    "recommendations = sorted(recommendations, key=lambda x: x[1], reverse=True)\n",
    " \n",
    "\n",
    "print(\"Recommendations for Superman:\")\n",
    "for idx, score in recommendations[1:]:\n",
    "    print(f\"{df['Item'][idx]}: {score:.2f}\")"
   ]
  },
  {
   "cell_type": "markdown",
   "metadata": {},
   "source": [
    "More than their summaries, its their genres which might do better"
   ]
  },
  {
   "cell_type": "markdown",
   "metadata": {},
   "source": [
    "# END"
   ]
  }
 ],
 "metadata": {
  "kernelspec": {
   "display_name": ".venv",
   "language": "python",
   "name": "python3"
  },
  "language_info": {
   "codemirror_mode": {
    "name": "ipython",
    "version": 3
   },
   "file_extension": ".py",
   "mimetype": "text/x-python",
   "name": "python",
   "nbconvert_exporter": "python",
   "pygments_lexer": "ipython3",
   "version": "3.13.3"
  }
 },
 "nbformat": 4,
 "nbformat_minor": 2
}
